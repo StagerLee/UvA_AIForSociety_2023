{
 "cells": [
  {
   "cell_type": "markdown",
   "id": "c64b8180",
   "metadata": {},
   "source": [
    "# Imaginaries of Artificial Intelligence"
   ]
  },
  {
   "cell_type": "markdown",
   "id": "968a149c",
   "metadata": {},
   "source": [
    "\n",
    "\n",
    "In this assignment you will map the imaginaries of a topic related to Artificial Intelligence on YouTube. \n",
    "\n",
    "This is a broad research goal, so you can adjust it to your own curiosity and preferences. \n",
    "\n",
    "The reason the assignment focuses YouTube specifically is due to the relative accessibility of its API. If you prefer so (/dare to), you can work with other data sources (e.g., another social media platform, search engine results, news/academic articles) for which you would have to develop a web scraper.\n",
    "\n",
    "\n",
    "***Main steps***\n",
    "\n",
    "* Obtain an API Key to be able to use the YouTube Data API (see: https://developers.google.com/youtube/v3/quickstart/python). Familiarize yourself with the API logic and, optionally, with the Python wrapper library youtube-data-api (see:https://pypi.org/project/youtube-data-api/).\n",
    "\n",
    "\n",
    "* Agree on your research topic  / question. Example questions include: What are the main topics associated to AI? What are the main imaginaries around how AI will transform the world? What is the sentiment associated to different AI technologies?\n",
    "\n",
    "\n",
    "* Define one or more queries that matche your topic / question. The query can be as broad as e.g., \"Artificial Intelligence\" or \"Large Language Models\", or something more specific e.g., \"how LLM will change the world\" or \"the next AI development\". It is good practice to test your queries on YouTube to make sure that they produce meaningful results.\n",
    "\n",
    "\n",
    "* Decide what type of data to look at. Your entry point can be videos or channels, and for each you can decide to focus on different type of (textual) information (e.g., titles, descriptions, captions, comments, or a combination). You can also decide to apply a more refined data collection logic (e.g., you can look at a specific time frame, or a specific geographical area, etc.). In order to make inform decisions, consult the API documentaion to know what are the possibilities (see: https://developers.google.com/youtube/v3/docs/?apix=true)\n",
    "\n",
    "\n",
    "* Collect the data for your research. When designing your data collection strategy, beware of requests' quotas and rate limits (https://developers.google.com/youtube/v3/determine_quota_cost).\n",
    "\n",
    "\n",
    "* Develop and implement a data analysis strategy based on a NLP technique of your choice (or a cobination), that allow to extract insights from your corpus (see the suggested pointers below).\n",
    "\n",
    "* Write a research report that includes: research question; logic of data collection; strategy for data analysis; main findings.\n",
    "\n",
    "\n",
    "Ideally, you should come to the lab with the data already collected, and with an idea on how to proceed for the analysis.\n",
    "\n",
    "\n",
    "\n",
    " \n",
    "\n"
   ]
  },
  {
   "cell_type": "markdown",
   "id": "9c75d012",
   "metadata": {},
   "source": [
    "\n",
    "\n",
    "***Pointers for data analysis***\n",
    "\n",
    "*Topic Modelling: https://towardsdatascience.com/end-to-end-topic-modeling-in-python-latent-dirichlet-allocation-lda-35ce4ed6b3e0\n",
    "\n",
    "*Word2Vec: https://towardsdatascience.com/a-beginners-guide-to-word-embedding-with-gensim-word2vec-model-5970fa56cc92\n",
    "\n",
    "*KMeans: https://www.analyticsvidhya.com/blog/2021/04/k-means-clustering-simplified-in-python/\n",
    "\n",
    "*Sentiment analysis: https://www.analyticsvidhya.com/blog/2022/07/sentiment-analysis-using-python/\n",
    "\n",
    "We have generally not tried these particular implementations and they are just examples of what you could do. You are free to choose any analysis technique that allows you to derive meaningful insights from your corpus."
   ]
  }
 ],
 "metadata": {
  "kernelspec": {
   "display_name": "Python 3 (ipykernel)",
   "language": "python",
   "name": "python3"
  },
  "language_info": {
   "codemirror_mode": {
    "name": "ipython",
    "version": 3
   },
   "file_extension": ".py",
   "mimetype": "text/x-python",
   "name": "python",
   "nbconvert_exporter": "python",
   "pygments_lexer": "ipython3",
   "version": "3.7.11"
  }
 },
 "nbformat": 4,
 "nbformat_minor": 5
}
